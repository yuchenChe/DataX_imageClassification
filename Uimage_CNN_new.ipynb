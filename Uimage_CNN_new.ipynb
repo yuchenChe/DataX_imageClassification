{
  "nbformat": 4,
  "nbformat_minor": 0,
  "metadata": {
    "colab": {
      "name": "Uimage_CNN_new.ipynb",
      "provenance": [],
      "collapsed_sections": []
    },
    "kernelspec": {
      "name": "python3",
      "display_name": "Python 3"
    }
  },
  "cells": [
    {
      "cell_type": "code",
      "metadata": {
        "id": "7QrYsUlRU3kV",
        "colab_type": "code",
        "outputId": "8ec3e512-86d9-4a6c-a5ef-4690aa980df9",
        "colab": {
          "base_uri": "https://localhost:8080/",
          "height": 122
        }
      },
      "source": [
        "from google.colab import drive\n",
        "drive.mount('/content/drive',force_remount=True)"
      ],
      "execution_count": 1,
      "outputs": [
        {
          "output_type": "stream",
          "text": [
            "Go to this URL in a browser: https://accounts.google.com/o/oauth2/auth?client_id=947318989803-6bn6qk8qdgf4n4g3pfee6491hc0brc4i.apps.googleusercontent.com&redirect_uri=urn%3aietf%3awg%3aoauth%3a2.0%3aoob&response_type=code&scope=email%20https%3a%2f%2fwww.googleapis.com%2fauth%2fdocs.test%20https%3a%2f%2fwww.googleapis.com%2fauth%2fdrive%20https%3a%2f%2fwww.googleapis.com%2fauth%2fdrive.photos.readonly%20https%3a%2f%2fwww.googleapis.com%2fauth%2fpeopleapi.readonly\n",
            "\n",
            "Enter your authorization code:\n",
            "··········\n",
            "Mounted at /content/drive\n"
          ],
          "name": "stdout"
        }
      ]
    },
    {
      "cell_type": "code",
      "metadata": {
        "id": "9Qq3lI-7U7J3",
        "colab_type": "code",
        "colab": {}
      },
      "source": [
        "#import and resize image data to the list 'images'\n",
        "import cv2\n",
        "import os\n",
        "import glob\n",
        "import PIL\n",
        "from PIL import Image\n",
        "img_dir = \"/content/drive/My Drive/data-X/dataset/training_gallary\"\n",
        "data_path = os.path.join(img_dir,'*g')\n",
        "files = glob.glob(data_path)\n",
        "images = []\n",
        "for f1 in files:\n",
        "    img = cv2.imread(f1)\n",
        "    img = cv2.cvtColor(img, cv2.COLOR_RGB2BGR) #convert from RGB to BGR\n",
        "    img = cv2.resize(img, (32, 32))  #resize the images\n",
        "    images.append(img)"
      ],
      "execution_count": 0,
      "outputs": []
    },
    {
      "cell_type": "code",
      "metadata": {
        "id": "eyYSbH92VD6r",
        "colab_type": "code",
        "outputId": "8d9e4f9e-0e01-4c8d-e019-0af3c31d9d6e",
        "colab": {
          "base_uri": "https://localhost:8080/",
          "height": 266
        }
      },
      "source": [
        "import matplotlib.pyplot as plt\n",
        "img = plt.imshow(images[0])"
      ],
      "execution_count": 3,
      "outputs": [
        {
          "output_type": "display_data",
          "data": {
            "image/png": "[encoded data removed]",
            "text/plain": [
              "<Figure size 432x288 with 1 Axes>"
            ]
          },
          "metadata": {
            "tags": [],
            "needs_background": "light"
          }
        }
      ]
    },
    {
      "cell_type": "code",
      "metadata": {
        "id": "YbiC7xnRWh0S",
        "colab_type": "code",
        "outputId": "20032b19-87dd-4e28-afd9-dcfd7c577e99",
        "colab": {
          "base_uri": "https://localhost:8080/",
          "height": 266
        }
      },
      "source": [
        "img = plt.imshow(images[5])"
      ],
      "execution_count": 4,
      "outputs": [
        {
          "output_type": "display_data",
          "data": {
            "image/png": "[encoded data removed]",
            "text/plain": [
              "<Figure size 432x288 with 1 Axes>"
            ]
          },
          "metadata": {
            "tags": [],
            "needs_background": "light"
          }
        }
      ]
    },
    {
      "cell_type": "code",
      "metadata": {
        "id": "1Ns91NVkWjb9",
        "colab_type": "code",
        "colab": {}
      },
      "source": [
        "import os\n",
        "from PIL import Image\n",
        "import numpy as np\n",
        "\n",
        "path = '/content/drive/My Drive/data-X/dataset/training_gallary'\n",
        "# Store the image file names in a list as long as they are jpgs\n",
        "image_names = [f for f in os.listdir(path) if os.path.splitext(f)[-1] == '.jpg']\n",
        "image_names = [int(i.split('.')[0]) for i in image_names]\n"
      ],
      "execution_count": 0,
      "outputs": []
    },
    {
      "cell_type": "code",
      "metadata": {
        "id": "5NrTRTJ_WlGF",
        "colab_type": "code",
        "colab": {}
      },
      "source": [
        "#convert images and image_names to arrays\n",
        "images = np.asarray(images, dtype=np.float32)\n",
        "image_names = np.asarray(image_names, dtype=np.int)"
      ],
      "execution_count": 0,
      "outputs": []
    },
    {
      "cell_type": "code",
      "metadata": {
        "id": "km5p2Wp_Wllc",
        "colab_type": "code",
        "outputId": "e5324893-8de1-46c4-f2d4-e266d1674d8d",
        "colab": {
          "base_uri": "https://localhost:8080/",
          "height": 850
        }
      },
      "source": [
        "images[0]"
      ],
      "execution_count": 7,
      "outputs": [
        {
          "output_type": "execute_result",
          "data": {
            "text/plain": [
              "array([[[ 90.,  94., 129.],\n",
              "        [ 69.,  77., 114.],\n",
              "        [ 75.,  79., 105.],\n",
              "        ...,\n",
              "        [ 15.,  14.,  12.],\n",
              "        [ 16.,  15.,  13.],\n",
              "        [ 14.,  13.,  13.]],\n",
              "\n",
              "       [[115., 119., 166.],\n",
              "        [ 88.,  93., 135.],\n",
              "        [ 87.,  88., 119.],\n",
              "        ...,\n",
              "        [ 17.,  11.,  11.],\n",
              "        [ 17.,  13.,  12.],\n",
              "        [ 16.,  10.,  10.]],\n",
              "\n",
              "       [[146., 157., 202.],\n",
              "        [110., 119., 162.],\n",
              "        [ 86.,  90., 128.],\n",
              "        ...,\n",
              "        [ 20.,  15.,  12.],\n",
              "        [ 18.,  14.,  11.],\n",
              "        [ 20.,  15.,  12.]],\n",
              "\n",
              "       ...,\n",
              "\n",
              "       [[ 87.,  82.,  46.],\n",
              "        [ 87.,  74.,  39.],\n",
              "        [ 84.,  64.,  36.],\n",
              "        ...,\n",
              "        [ 42.,  25.,  14.],\n",
              "        [ 40.,  17.,   9.],\n",
              "        [ 44.,  28.,  12.]],\n",
              "\n",
              "       [[ 69.,  69.,  38.],\n",
              "        [ 68.,  67.,  39.],\n",
              "        [ 73.,  65.,  39.],\n",
              "        ...,\n",
              "        [ 51.,  30.,  13.],\n",
              "        [ 34.,  15.,   8.],\n",
              "        [ 33.,  23.,  12.]],\n",
              "\n",
              "       [[ 73.,  72.,  41.],\n",
              "        [ 68.,  62.,  37.],\n",
              "        [ 63.,  57.,  32.],\n",
              "        ...,\n",
              "        [ 79.,  57.,  30.],\n",
              "        [ 59.,  43.,  20.],\n",
              "        [ 34.,  25.,  12.]]], dtype=float32)"
            ]
          },
          "metadata": {
            "tags": []
          },
          "execution_count": 7
        }
      ]
    },
    {
      "cell_type": "code",
      "metadata": {
        "id": "GI6KoMUHWpYJ",
        "colab_type": "code",
        "outputId": "ae60ac0a-85d5-49d4-ff54-a1f3c73b734b",
        "colab": {
          "base_uri": "https://localhost:8080/",
          "height": 34
        }
      },
      "source": [
        "image_names[0]"
      ],
      "execution_count": 8,
      "outputs": [
        {
          "output_type": "execute_result",
          "data": {
            "text/plain": [
              "101085"
            ]
          },
          "metadata": {
            "tags": []
          },
          "execution_count": 8
        }
      ]
    },
    {
      "cell_type": "code",
      "metadata": {
        "id": "LpKqGwGJWsnN",
        "colab_type": "code",
        "outputId": "3d6f8afd-8171-4623-aebb-f6a3fa429c4d",
        "colab": {
          "base_uri": "https://localhost:8080/",
          "height": 34
        }
      },
      "source": [
        "#create the map (map photo_id to labels)\n",
        "import pandas as pd\n",
        "train = pd.read_csv('/content/drive/My Drive/data-X/dataset/train.csv')\n",
        "train_p2b = pd.read_csv('/content/drive/My Drive/data-X/dataset/train_photo_to_biz_ids.csv')\n",
        "df = pd.merge(train_p2b, train, how='left',left_on='business_id',right_on='business_id')\n",
        "df['labels'] = df['labels'].astype(str)\n",
        "len(df)"
      ],
      "execution_count": 9,
      "outputs": [
        {
          "output_type": "execute_result",
          "data": {
            "text/plain": [
              "234842"
            ]
          },
          "metadata": {
            "tags": []
          },
          "execution_count": 9
        }
      ]
    },
    {
      "cell_type": "code",
      "metadata": {
        "id": "XjBwfE6eX3Pp",
        "colab_type": "code",
        "outputId": "7751b37e-151a-472a-a661-e607882a5a25",
        "colab": {
          "base_uri": "https://localhost:8080/",
          "height": 204
        }
      },
      "source": [
        "train.head()"
      ],
      "execution_count": 10,
      "outputs": [
        {
          "output_type": "execute_result",
          "data": {
            "text/html": [
              "<div>\n",
              "<style scoped>\n",
              "    .dataframe tbody tr th:only-of-type {\n",
              "        vertical-align: middle;\n",
              "    }\n",
              "\n",
              "    .dataframe tbody tr th {\n",
              "        vertical-align: top;\n",
              "    }\n",
              "\n",
              "    .dataframe thead th {\n",
              "        text-align: right;\n",
              "    }\n",
              "</style>\n",
              "<table border=\"1\" class=\"dataframe\">\n",
              "  <thead>\n",
              "    <tr style=\"text-align: right;\">\n",
              "      <th></th>\n",
              "      <th>business_id</th>\n",
              "      <th>labels</th>\n",
              "    </tr>\n",
              "  </thead>\n",
              "  <tbody>\n",
              "    <tr>\n",
              "      <th>0</th>\n",
              "      <td>1000</td>\n",
              "      <td>1 2 3 4 5 6 7</td>\n",
              "    </tr>\n",
              "    <tr>\n",
              "      <th>1</th>\n",
              "      <td>1001</td>\n",
              "      <td>0 1 6 8</td>\n",
              "    </tr>\n",
              "    <tr>\n",
              "      <th>2</th>\n",
              "      <td>100</td>\n",
              "      <td>1 2 4 5 6 7</td>\n",
              "    </tr>\n",
              "    <tr>\n",
              "      <th>3</th>\n",
              "      <td>1006</td>\n",
              "      <td>1 2 4 5 6</td>\n",
              "    </tr>\n",
              "    <tr>\n",
              "      <th>4</th>\n",
              "      <td>1010</td>\n",
              "      <td>0 6 8</td>\n",
              "    </tr>\n",
              "  </tbody>\n",
              "</table>\n",
              "</div>"
            ],
            "text/plain": [
              "   business_id         labels\n",
              "0         1000  1 2 3 4 5 6 7\n",
              "1         1001        0 1 6 8\n",
              "2          100    1 2 4 5 6 7\n",
              "3         1006      1 2 4 5 6\n",
              "4         1010          0 6 8"
            ]
          },
          "metadata": {
            "tags": []
          },
          "execution_count": 10
        }
      ]
    },
    {
      "cell_type": "code",
      "metadata": {
        "id": "Ck7BvhqiX6s_",
        "colab_type": "code",
        "outputId": "42d393b1-2dfe-4148-c109-7ee97a82ea51",
        "colab": {
          "base_uri": "https://localhost:8080/",
          "height": 204
        }
      },
      "source": [
        "train_p2b.head()"
      ],
      "execution_count": 11,
      "outputs": [
        {
          "output_type": "execute_result",
          "data": {
            "text/html": [
              "<div>\n",
              "<style scoped>\n",
              "    .dataframe tbody tr th:only-of-type {\n",
              "        vertical-align: middle;\n",
              "    }\n",
              "\n",
              "    .dataframe tbody tr th {\n",
              "        vertical-align: top;\n",
              "    }\n",
              "\n",
              "    .dataframe thead th {\n",
              "        text-align: right;\n",
              "    }\n",
              "</style>\n",
              "<table border=\"1\" class=\"dataframe\">\n",
              "  <thead>\n",
              "    <tr style=\"text-align: right;\">\n",
              "      <th></th>\n",
              "      <th>photo_id</th>\n",
              "      <th>business_id</th>\n",
              "    </tr>\n",
              "  </thead>\n",
              "  <tbody>\n",
              "    <tr>\n",
              "      <th>0</th>\n",
              "      <td>204149</td>\n",
              "      <td>3034</td>\n",
              "    </tr>\n",
              "    <tr>\n",
              "      <th>1</th>\n",
              "      <td>52779</td>\n",
              "      <td>2805</td>\n",
              "    </tr>\n",
              "    <tr>\n",
              "      <th>2</th>\n",
              "      <td>278973</td>\n",
              "      <td>485</td>\n",
              "    </tr>\n",
              "    <tr>\n",
              "      <th>3</th>\n",
              "      <td>195284</td>\n",
              "      <td>485</td>\n",
              "    </tr>\n",
              "    <tr>\n",
              "      <th>4</th>\n",
              "      <td>19992</td>\n",
              "      <td>485</td>\n",
              "    </tr>\n",
              "  </tbody>\n",
              "</table>\n",
              "</div>"
            ],
            "text/plain": [
              "   photo_id  business_id\n",
              "0    204149         3034\n",
              "1     52779         2805\n",
              "2    278973          485\n",
              "3    195284          485\n",
              "4     19992          485"
            ]
          },
          "metadata": {
            "tags": []
          },
          "execution_count": 11
        }
      ]
    },
    {
      "cell_type": "code",
      "metadata": {
        "id": "2zv3j42VWuAZ",
        "colab_type": "code",
        "outputId": "e3fbf833-e560-4221-da80-5cdcb7ca5dac",
        "colab": {
          "base_uri": "https://localhost:8080/",
          "height": 85
        }
      },
      "source": [
        "df.isnull().sum()"
      ],
      "execution_count": 12,
      "outputs": [
        {
          "output_type": "execute_result",
          "data": {
            "text/plain": [
              "photo_id       0\n",
              "business_id    0\n",
              "labels         0\n",
              "dtype: int64"
            ]
          },
          "metadata": {
            "tags": []
          },
          "execution_count": 12
        }
      ]
    },
    {
      "cell_type": "code",
      "metadata": {
        "id": "k934W--3Wvpq",
        "colab_type": "code",
        "outputId": "b5ca1cdc-9107-4e0f-8ac9-4801c4e9ed05",
        "colab": {
          "base_uri": "https://localhost:8080/",
          "height": 85
        }
      },
      "source": [
        "df.isna().sum()"
      ],
      "execution_count": 13,
      "outputs": [
        {
          "output_type": "execute_result",
          "data": {
            "text/plain": [
              "photo_id       0\n",
              "business_id    0\n",
              "labels         0\n",
              "dtype: int64"
            ]
          },
          "metadata": {
            "tags": []
          },
          "execution_count": 13
        }
      ]
    },
    {
      "cell_type": "code",
      "metadata": {
        "id": "9aqezZ1HWwly",
        "colab_type": "code",
        "outputId": "0ec748c9-d503-48c2-f0e7-2b0d1435d741",
        "colab": {
          "base_uri": "https://localhost:8080/",
          "height": 204
        }
      },
      "source": [
        "df.head()"
      ],
      "execution_count": 14,
      "outputs": [
        {
          "output_type": "execute_result",
          "data": {
            "text/html": [
              "<div>\n",
              "<style scoped>\n",
              "    .dataframe tbody tr th:only-of-type {\n",
              "        vertical-align: middle;\n",
              "    }\n",
              "\n",
              "    .dataframe tbody tr th {\n",
              "        vertical-align: top;\n",
              "    }\n",
              "\n",
              "    .dataframe thead th {\n",
              "        text-align: right;\n",
              "    }\n",
              "</style>\n",
              "<table border=\"1\" class=\"dataframe\">\n",
              "  <thead>\n",
              "    <tr style=\"text-align: right;\">\n",
              "      <th></th>\n",
              "      <th>photo_id</th>\n",
              "      <th>business_id</th>\n",
              "      <th>labels</th>\n",
              "    </tr>\n",
              "  </thead>\n",
              "  <tbody>\n",
              "    <tr>\n",
              "      <th>0</th>\n",
              "      <td>204149</td>\n",
              "      <td>3034</td>\n",
              "      <td>3 8</td>\n",
              "    </tr>\n",
              "    <tr>\n",
              "      <th>1</th>\n",
              "      <td>52779</td>\n",
              "      <td>2805</td>\n",
              "      <td>1 2 3 5 6 7</td>\n",
              "    </tr>\n",
              "    <tr>\n",
              "      <th>2</th>\n",
              "      <td>278973</td>\n",
              "      <td>485</td>\n",
              "      <td>1 2 3 4 5 6 7</td>\n",
              "    </tr>\n",
              "    <tr>\n",
              "      <th>3</th>\n",
              "      <td>195284</td>\n",
              "      <td>485</td>\n",
              "      <td>1 2 3 4 5 6 7</td>\n",
              "    </tr>\n",
              "    <tr>\n",
              "      <th>4</th>\n",
              "      <td>19992</td>\n",
              "      <td>485</td>\n",
              "      <td>1 2 3 4 5 6 7</td>\n",
              "    </tr>\n",
              "  </tbody>\n",
              "</table>\n",
              "</div>"
            ],
            "text/plain": [
              "   photo_id  business_id         labels\n",
              "0    204149         3034            3 8\n",
              "1     52779         2805    1 2 3 5 6 7\n",
              "2    278973          485  1 2 3 4 5 6 7\n",
              "3    195284          485  1 2 3 4 5 6 7\n",
              "4     19992          485  1 2 3 4 5 6 7"
            ]
          },
          "metadata": {
            "tags": []
          },
          "execution_count": 14
        }
      ]
    },
    {
      "cell_type": "code",
      "metadata": {
        "id": "WP0BBL6CWx0c",
        "colab_type": "code",
        "outputId": "fff4194f-9eba-41df-cd9a-47a5d658a05b",
        "colab": {
          "base_uri": "https://localhost:8080/",
          "height": 204
        }
      },
      "source": [
        "del df['business_id']\n",
        "df['labels'] = df['labels'].apply(lambda x: x.split(' '))\n",
        "df.head()"
      ],
      "execution_count": 15,
      "outputs": [
        {
          "output_type": "execute_result",
          "data": {
            "text/html": [
              "<div>\n",
              "<style scoped>\n",
              "    .dataframe tbody tr th:only-of-type {\n",
              "        vertical-align: middle;\n",
              "    }\n",
              "\n",
              "    .dataframe tbody tr th {\n",
              "        vertical-align: top;\n",
              "    }\n",
              "\n",
              "    .dataframe thead th {\n",
              "        text-align: right;\n",
              "    }\n",
              "</style>\n",
              "<table border=\"1\" class=\"dataframe\">\n",
              "  <thead>\n",
              "    <tr style=\"text-align: right;\">\n",
              "      <th></th>\n",
              "      <th>photo_id</th>\n",
              "      <th>labels</th>\n",
              "    </tr>\n",
              "  </thead>\n",
              "  <tbody>\n",
              "    <tr>\n",
              "      <th>0</th>\n",
              "      <td>204149</td>\n",
              "      <td>[3, 8]</td>\n",
              "    </tr>\n",
              "    <tr>\n",
              "      <th>1</th>\n",
              "      <td>52779</td>\n",
              "      <td>[1, 2, 3, 5, 6, 7]</td>\n",
              "    </tr>\n",
              "    <tr>\n",
              "      <th>2</th>\n",
              "      <td>278973</td>\n",
              "      <td>[1, 2, 3, 4, 5, 6, 7]</td>\n",
              "    </tr>\n",
              "    <tr>\n",
              "      <th>3</th>\n",
              "      <td>195284</td>\n",
              "      <td>[1, 2, 3, 4, 5, 6, 7]</td>\n",
              "    </tr>\n",
              "    <tr>\n",
              "      <th>4</th>\n",
              "      <td>19992</td>\n",
              "      <td>[1, 2, 3, 4, 5, 6, 7]</td>\n",
              "    </tr>\n",
              "  </tbody>\n",
              "</table>\n",
              "</div>"
            ],
            "text/plain": [
              "   photo_id                 labels\n",
              "0    204149                 [3, 8]\n",
              "1     52779     [1, 2, 3, 5, 6, 7]\n",
              "2    278973  [1, 2, 3, 4, 5, 6, 7]\n",
              "3    195284  [1, 2, 3, 4, 5, 6, 7]\n",
              "4     19992  [1, 2, 3, 4, 5, 6, 7]"
            ]
          },
          "metadata": {
            "tags": []
          },
          "execution_count": 15
        }
      ]
    },
    {
      "cell_type": "code",
      "metadata": {
        "id": "LDWKj-9NW0L3",
        "colab_type": "code",
        "outputId": "6c4eec14-1aef-4e9e-a4f1-06ae90fa3755",
        "colab": {
          "base_uri": "https://localhost:8080/",
          "height": 34
        }
      },
      "source": [
        "len(images) #there are 1298 images in the training set"
      ],
      "execution_count": 16,
      "outputs": [
        {
          "output_type": "execute_result",
          "data": {
            "text/plain": [
              "1298"
            ]
          },
          "metadata": {
            "tags": []
          },
          "execution_count": 16
        }
      ]
    },
    {
      "cell_type": "code",
      "metadata": {
        "id": "e2BNBNquW3Rl",
        "colab_type": "code",
        "outputId": "32d872a9-d5f3-4c78-c0f1-ac19d6c68f9f",
        "colab": {
          "base_uri": "https://localhost:8080/",
          "height": 34
        }
      },
      "source": [
        "image_names"
      ],
      "execution_count": 17,
      "outputs": [
        {
          "output_type": "execute_result",
          "data": {
            "text/plain": [
              "array([101085,  10118,  10116, ..., 101078, 101081, 101083])"
            ]
          },
          "metadata": {
            "tags": []
          },
          "execution_count": 17
        }
      ]
    },
    {
      "cell_type": "code",
      "metadata": {
        "id": "s9AwPL3FYMKP",
        "colab_type": "code",
        "outputId": "9744d216-5d79-42fe-cd49-e0865f582b74",
        "colab": {
          "base_uri": "https://localhost:8080/",
          "height": 34
        }
      },
      "source": [
        "df.shape #df is the whole map of photo to labels (more than what we have in our training gallary)"
      ],
      "execution_count": 18,
      "outputs": [
        {
          "output_type": "execute_result",
          "data": {
            "text/plain": [
              "(234842, 2)"
            ]
          },
          "metadata": {
            "tags": []
          },
          "execution_count": 18
        }
      ]
    },
    {
      "cell_type": "code",
      "metadata": {
        "id": "NlyR9cyxW4lB",
        "colab_type": "code",
        "outputId": "e658fcba-1d5a-4fa3-9ec5-53aca05676b1",
        "colab": {
          "base_uri": "https://localhost:8080/",
          "height": 419
        }
      },
      "source": [
        "#use image_names to create an array of labels\n",
        "names = pd.DataFrame(image_names)\n",
        "names = names.rename(columns={0: \"image_names\"})\n",
        "data = pd.merge(names, df, how='left', left_on='image_names',right_on='photo_id')\n",
        "data['photo'] = data['photo_id'].astype(str)+'.jpg'\n",
        "del data['image_names']\n",
        "del data['photo_id']\n",
        "data"
      ],
      "execution_count": 19,
      "outputs": [
        {
          "output_type": "execute_result",
          "data": {
            "text/html": [
              "<div>\n",
              "<style scoped>\n",
              "    .dataframe tbody tr th:only-of-type {\n",
              "        vertical-align: middle;\n",
              "    }\n",
              "\n",
              "    .dataframe tbody tr th {\n",
              "        vertical-align: top;\n",
              "    }\n",
              "\n",
              "    .dataframe thead th {\n",
              "        text-align: right;\n",
              "    }\n",
              "</style>\n",
              "<table border=\"1\" class=\"dataframe\">\n",
              "  <thead>\n",
              "    <tr style=\"text-align: right;\">\n",
              "      <th></th>\n",
              "      <th>labels</th>\n",
              "      <th>photo</th>\n",
              "    </tr>\n",
              "  </thead>\n",
              "  <tbody>\n",
              "    <tr>\n",
              "      <th>0</th>\n",
              "      <td>[0, 3, 8]</td>\n",
              "      <td>101085.jpg</td>\n",
              "    </tr>\n",
              "    <tr>\n",
              "      <th>1</th>\n",
              "      <td>[1, 2, 5, 6, 8]</td>\n",
              "      <td>10118.jpg</td>\n",
              "    </tr>\n",
              "    <tr>\n",
              "      <th>2</th>\n",
              "      <td>[1, 2, 3, 4, 5, 6, 7, 8]</td>\n",
              "      <td>10116.jpg</td>\n",
              "    </tr>\n",
              "    <tr>\n",
              "      <th>3</th>\n",
              "      <td>[3, 8]</td>\n",
              "      <td>101089.jpg</td>\n",
              "    </tr>\n",
              "    <tr>\n",
              "      <th>4</th>\n",
              "      <td>[1, 2, 3, 4, 5, 6, 7]</td>\n",
              "      <td>10119.jpg</td>\n",
              "    </tr>\n",
              "    <tr>\n",
              "      <th>...</th>\n",
              "      <td>...</td>\n",
              "      <td>...</td>\n",
              "    </tr>\n",
              "    <tr>\n",
              "      <th>1293</th>\n",
              "      <td>[0, 1, 6, 8]</td>\n",
              "      <td>100910.jpg</td>\n",
              "    </tr>\n",
              "    <tr>\n",
              "      <th>1294</th>\n",
              "      <td>[1, 2, 4, 5, 6, 7]</td>\n",
              "      <td>100912.jpg</td>\n",
              "    </tr>\n",
              "    <tr>\n",
              "      <th>1295</th>\n",
              "      <td>[0, 4, 5, 8]</td>\n",
              "      <td>101078.jpg</td>\n",
              "    </tr>\n",
              "    <tr>\n",
              "      <th>1296</th>\n",
              "      <td>[0, 8]</td>\n",
              "      <td>101081.jpg</td>\n",
              "    </tr>\n",
              "    <tr>\n",
              "      <th>1297</th>\n",
              "      <td>[1, 2, 3, 5, 6, 8]</td>\n",
              "      <td>101083.jpg</td>\n",
              "    </tr>\n",
              "  </tbody>\n",
              "</table>\n",
              "<p>1298 rows × 2 columns</p>\n",
              "</div>"
            ],
            "text/plain": [
              "                        labels       photo\n",
              "0                    [0, 3, 8]  101085.jpg\n",
              "1              [1, 2, 5, 6, 8]   10118.jpg\n",
              "2     [1, 2, 3, 4, 5, 6, 7, 8]   10116.jpg\n",
              "3                       [3, 8]  101089.jpg\n",
              "4        [1, 2, 3, 4, 5, 6, 7]   10119.jpg\n",
              "...                        ...         ...\n",
              "1293              [0, 1, 6, 8]  100910.jpg\n",
              "1294        [1, 2, 4, 5, 6, 7]  100912.jpg\n",
              "1295              [0, 4, 5, 8]  101078.jpg\n",
              "1296                    [0, 8]  101081.jpg\n",
              "1297        [1, 2, 3, 5, 6, 8]  101083.jpg\n",
              "\n",
              "[1298 rows x 2 columns]"
            ]
          },
          "metadata": {
            "tags": []
          },
          "execution_count": 19
        }
      ]
    },
    {
      "cell_type": "code",
      "metadata": {
        "id": "dc3S7VIMZYec",
        "colab_type": "code",
        "colab": {}
      },
      "source": [
        "#create a dictionary for labels\n",
        "dic = {'0': 'good_for_lunch', '1': 'good_for_dinner','2': 'takes_reservations', '3': 'outdoor_seating', '4': 'restaurant_is_expensive', '5': 'has_alcohol', '6': 'has_table_service', '7': 'ambience_is_classy', '8': 'good_for_kids'}"
      ],
      "execution_count": 0,
      "outputs": []
    },
    {
      "cell_type": "code",
      "metadata": {
        "id": "rwsBAQdjZ42m",
        "colab_type": "code",
        "outputId": "e069acf6-ac66-428d-be34-1afaa095da9c",
        "colab": {
          "base_uri": "https://localhost:8080/",
          "height": 419
        }
      },
      "source": [
        "#convert labels to words\n",
        "for num, words in dic.items():\n",
        "  for ind in range(0, len(data['labels'])):\n",
        "    data['labels'][ind] = [ele.replace(num, words) for ele in data['labels'][ind]]\n",
        "data"
      ],
      "execution_count": 21,
      "outputs": [
        {
          "output_type": "execute_result",
          "data": {
            "text/html": [
              "<div>\n",
              "<style scoped>\n",
              "    .dataframe tbody tr th:only-of-type {\n",
              "        vertical-align: middle;\n",
              "    }\n",
              "\n",
              "    .dataframe tbody tr th {\n",
              "        vertical-align: top;\n",
              "    }\n",
              "\n",
              "    .dataframe thead th {\n",
              "        text-align: right;\n",
              "    }\n",
              "</style>\n",
              "<table border=\"1\" class=\"dataframe\">\n",
              "  <thead>\n",
              "    <tr style=\"text-align: right;\">\n",
              "      <th></th>\n",
              "      <th>labels</th>\n",
              "      <th>photo</th>\n",
              "    </tr>\n",
              "  </thead>\n",
              "  <tbody>\n",
              "    <tr>\n",
              "      <th>0</th>\n",
              "      <td>[good_for_lunch, outdoor_seating, good_for_kids]</td>\n",
              "      <td>101085.jpg</td>\n",
              "    </tr>\n",
              "    <tr>\n",
              "      <th>1</th>\n",
              "      <td>[good_for_dinner, takes_reservations, has_alco...</td>\n",
              "      <td>10118.jpg</td>\n",
              "    </tr>\n",
              "    <tr>\n",
              "      <th>2</th>\n",
              "      <td>[good_for_dinner, takes_reservations, outdoor_...</td>\n",
              "      <td>10116.jpg</td>\n",
              "    </tr>\n",
              "    <tr>\n",
              "      <th>3</th>\n",
              "      <td>[outdoor_seating, good_for_kids]</td>\n",
              "      <td>101089.jpg</td>\n",
              "    </tr>\n",
              "    <tr>\n",
              "      <th>4</th>\n",
              "      <td>[good_for_dinner, takes_reservations, outdoor_...</td>\n",
              "      <td>10119.jpg</td>\n",
              "    </tr>\n",
              "    <tr>\n",
              "      <th>...</th>\n",
              "      <td>...</td>\n",
              "      <td>...</td>\n",
              "    </tr>\n",
              "    <tr>\n",
              "      <th>1293</th>\n",
              "      <td>[good_for_lunch, good_for_dinner, has_table_se...</td>\n",
              "      <td>100910.jpg</td>\n",
              "    </tr>\n",
              "    <tr>\n",
              "      <th>1294</th>\n",
              "      <td>[good_for_dinner, takes_reservations, restaura...</td>\n",
              "      <td>100912.jpg</td>\n",
              "    </tr>\n",
              "    <tr>\n",
              "      <th>1295</th>\n",
              "      <td>[good_for_lunch, restaurant_is_expensive, has_...</td>\n",
              "      <td>101078.jpg</td>\n",
              "    </tr>\n",
              "    <tr>\n",
              "      <th>1296</th>\n",
              "      <td>[good_for_lunch, good_for_kids]</td>\n",
              "      <td>101081.jpg</td>\n",
              "    </tr>\n",
              "    <tr>\n",
              "      <th>1297</th>\n",
              "      <td>[good_for_dinner, takes_reservations, outdoor_...</td>\n",
              "      <td>101083.jpg</td>\n",
              "    </tr>\n",
              "  </tbody>\n",
              "</table>\n",
              "<p>1298 rows × 2 columns</p>\n",
              "</div>"
            ],
            "text/plain": [
              "                                                 labels       photo\n",
              "0      [good_for_lunch, outdoor_seating, good_for_kids]  101085.jpg\n",
              "1     [good_for_dinner, takes_reservations, has_alco...   10118.jpg\n",
              "2     [good_for_dinner, takes_reservations, outdoor_...   10116.jpg\n",
              "3                      [outdoor_seating, good_for_kids]  101089.jpg\n",
              "4     [good_for_dinner, takes_reservations, outdoor_...   10119.jpg\n",
              "...                                                 ...         ...\n",
              "1293  [good_for_lunch, good_for_dinner, has_table_se...  100910.jpg\n",
              "1294  [good_for_dinner, takes_reservations, restaura...  100912.jpg\n",
              "1295  [good_for_lunch, restaurant_is_expensive, has_...  101078.jpg\n",
              "1296                    [good_for_lunch, good_for_kids]  101081.jpg\n",
              "1297  [good_for_dinner, takes_reservations, outdoor_...  101083.jpg\n",
              "\n",
              "[1298 rows x 2 columns]"
            ]
          },
          "metadata": {
            "tags": []
          },
          "execution_count": 21
        }
      ]
    },
    {
      "cell_type": "code",
      "metadata": {
        "id": "zBPEJsSZfp7w",
        "colab_type": "code",
        "colab": {}
      },
      "source": [
        "data = data[['photo','labels']]"
      ],
      "execution_count": 0,
      "outputs": []
    },
    {
      "cell_type": "code",
      "metadata": {
        "id": "UQCFRyA1iZUF",
        "colab_type": "code",
        "colab": {}
      },
      "source": [
        "#define a function multi-label multi-hot-encoding\n",
        "def m_one_hot(data):\n",
        "  classes = ['good_for_lunch', 'good_for_dinner', 'takes_reservations', 'outdoor_seating', 'restaurant_is_expensive', 'has_alcohol', 'has_table_service', 'ambience_is_classy',  'good_for_kids']\n",
        "  answer = []\n",
        "  for e in classes:\n",
        "    if e in data['labels']:\n",
        "      answer.append(1)\n",
        "    else:\n",
        "      answer.append(0)\n",
        "  return answer"
      ],
      "execution_count": 0,
      "outputs": []
    },
    {
      "cell_type": "code",
      "metadata": {
        "id": "favl5eyenSjh",
        "colab_type": "code",
        "outputId": "03492c75-4310-413f-b02a-0790bf6a6eea",
        "colab": {
          "base_uri": "https://localhost:8080/",
          "height": 419
        }
      },
      "source": [
        "data2 = data.copy()\n",
        "data2['multi_hot'] = data2.apply(m_one_hot, axis=1)\n",
        "data2"
      ],
      "execution_count": 24,
      "outputs": [
        {
          "output_type": "execute_result",
          "data": {
            "text/html": [
              "<div>\n",
              "<style scoped>\n",
              "    .dataframe tbody tr th:only-of-type {\n",
              "        vertical-align: middle;\n",
              "    }\n",
              "\n",
              "    .dataframe tbody tr th {\n",
              "        vertical-align: top;\n",
              "    }\n",
              "\n",
              "    .dataframe thead th {\n",
              "        text-align: right;\n",
              "    }\n",
              "</style>\n",
              "<table border=\"1\" class=\"dataframe\">\n",
              "  <thead>\n",
              "    <tr style=\"text-align: right;\">\n",
              "      <th></th>\n",
              "      <th>photo</th>\n",
              "      <th>labels</th>\n",
              "      <th>multi_hot</th>\n",
              "    </tr>\n",
              "  </thead>\n",
              "  <tbody>\n",
              "    <tr>\n",
              "      <th>0</th>\n",
              "      <td>101085.jpg</td>\n",
              "      <td>[good_for_lunch, outdoor_seating, good_for_kids]</td>\n",
              "      <td>[1, 0, 0, 1, 0, 0, 0, 0, 1]</td>\n",
              "    </tr>\n",
              "    <tr>\n",
              "      <th>1</th>\n",
              "      <td>10118.jpg</td>\n",
              "      <td>[good_for_dinner, takes_reservations, has_alco...</td>\n",
              "      <td>[0, 1, 1, 0, 0, 1, 1, 0, 1]</td>\n",
              "    </tr>\n",
              "    <tr>\n",
              "      <th>2</th>\n",
              "      <td>10116.jpg</td>\n",
              "      <td>[good_for_dinner, takes_reservations, outdoor_...</td>\n",
              "      <td>[0, 1, 1, 1, 1, 1, 1, 1, 1]</td>\n",
              "    </tr>\n",
              "    <tr>\n",
              "      <th>3</th>\n",
              "      <td>101089.jpg</td>\n",
              "      <td>[outdoor_seating, good_for_kids]</td>\n",
              "      <td>[0, 0, 0, 1, 0, 0, 0, 0, 1]</td>\n",
              "    </tr>\n",
              "    <tr>\n",
              "      <th>4</th>\n",
              "      <td>10119.jpg</td>\n",
              "      <td>[good_for_dinner, takes_reservations, outdoor_...</td>\n",
              "      <td>[0, 1, 1, 1, 1, 1, 1, 1, 0]</td>\n",
              "    </tr>\n",
              "    <tr>\n",
              "      <th>...</th>\n",
              "      <td>...</td>\n",
              "      <td>...</td>\n",
              "      <td>...</td>\n",
              "    </tr>\n",
              "    <tr>\n",
              "      <th>1293</th>\n",
              "      <td>100910.jpg</td>\n",
              "      <td>[good_for_lunch, good_for_dinner, has_table_se...</td>\n",
              "      <td>[1, 1, 0, 0, 0, 0, 1, 0, 1]</td>\n",
              "    </tr>\n",
              "    <tr>\n",
              "      <th>1294</th>\n",
              "      <td>100912.jpg</td>\n",
              "      <td>[good_for_dinner, takes_reservations, restaura...</td>\n",
              "      <td>[0, 1, 1, 0, 1, 1, 1, 1, 0]</td>\n",
              "    </tr>\n",
              "    <tr>\n",
              "      <th>1295</th>\n",
              "      <td>101078.jpg</td>\n",
              "      <td>[good_for_lunch, restaurant_is_expensive, has_...</td>\n",
              "      <td>[1, 0, 0, 0, 1, 1, 0, 0, 1]</td>\n",
              "    </tr>\n",
              "    <tr>\n",
              "      <th>1296</th>\n",
              "      <td>101081.jpg</td>\n",
              "      <td>[good_for_lunch, good_for_kids]</td>\n",
              "      <td>[1, 0, 0, 0, 0, 0, 0, 0, 1]</td>\n",
              "    </tr>\n",
              "    <tr>\n",
              "      <th>1297</th>\n",
              "      <td>101083.jpg</td>\n",
              "      <td>[good_for_dinner, takes_reservations, outdoor_...</td>\n",
              "      <td>[0, 1, 1, 1, 0, 1, 1, 0, 1]</td>\n",
              "    </tr>\n",
              "  </tbody>\n",
              "</table>\n",
              "<p>1298 rows × 3 columns</p>\n",
              "</div>"
            ],
            "text/plain": [
              "           photo  ...                    multi_hot\n",
              "0     101085.jpg  ...  [1, 0, 0, 1, 0, 0, 0, 0, 1]\n",
              "1      10118.jpg  ...  [0, 1, 1, 0, 0, 1, 1, 0, 1]\n",
              "2      10116.jpg  ...  [0, 1, 1, 1, 1, 1, 1, 1, 1]\n",
              "3     101089.jpg  ...  [0, 0, 0, 1, 0, 0, 0, 0, 1]\n",
              "4      10119.jpg  ...  [0, 1, 1, 1, 1, 1, 1, 1, 0]\n",
              "...          ...  ...                          ...\n",
              "1293  100910.jpg  ...  [1, 1, 0, 0, 0, 0, 1, 0, 1]\n",
              "1294  100912.jpg  ...  [0, 1, 1, 0, 1, 1, 1, 1, 0]\n",
              "1295  101078.jpg  ...  [1, 0, 0, 0, 1, 1, 0, 0, 1]\n",
              "1296  101081.jpg  ...  [1, 0, 0, 0, 0, 0, 0, 0, 1]\n",
              "1297  101083.jpg  ...  [0, 1, 1, 1, 0, 1, 1, 0, 1]\n",
              "\n",
              "[1298 rows x 3 columns]"
            ]
          },
          "metadata": {
            "tags": []
          },
          "execution_count": 24
        }
      ]
    },
    {
      "cell_type": "code",
      "metadata": {
        "id": "5NlIoXIC0TyT",
        "colab_type": "code",
        "outputId": "3a553fb1-aa73-4f78-b407-b1b17a6bee64",
        "colab": {
          "base_uri": "https://localhost:8080/",
          "height": 51
        }
      },
      "source": [
        "X = images\n",
        "labels = data2['multi_hot'].to_frame().values\n",
        "Y = []\n",
        "for i in range(0,len(labels)):\n",
        "  Y.append(np.asarray(labels[i][0]))\n",
        "Y = np.asarray(Y)\n",
        "print('X is: ',X.shape)\n",
        "print('Y is: ',Y.shape)"
      ],
      "execution_count": 25,
      "outputs": [
        {
          "output_type": "stream",
          "text": [
            "X is:  (1298, 32, 32, 3)\n",
            "Y is:  (1298, 9)\n"
          ],
          "name": "stdout"
        }
      ]
    },
    {
      "cell_type": "code",
      "metadata": {
        "id": "UtWXSLMj5Ws0",
        "colab_type": "code",
        "colab": {}
      },
      "source": [
        "from sklearn.model_selection import train_test_split\n",
        "trainX, testX, trainY, testY = train_test_split(X, Y, test_size=0.3, random_state=1)"
      ],
      "execution_count": 0,
      "outputs": []
    },
    {
      "cell_type": "code",
      "metadata": {
        "id": "CQmsBr365eaV",
        "colab_type": "code",
        "colab": {}
      },
      "source": [
        "#baseline prediction\n",
        "# make all one predictions\n",
        "train_yhat = np.asarray([np.ones(9) for _ in range(trainY.shape[0])])\n",
        "test_yhat = np.asarray([np.ones(9) for _ in range(testY.shape[0])])"
      ],
      "execution_count": 0,
      "outputs": []
    },
    {
      "cell_type": "code",
      "metadata": {
        "id": "RqRyFGvhFGVh",
        "colab_type": "code",
        "colab": {}
      },
      "source": [
        "def avgED(y, py):\n",
        "  from scipy.spatial import distance\n",
        "  tsum = 0\n",
        "  for i in range(len(y)):\n",
        "    tsum += distance.euclidean(y[i], py[i])\n",
        "  return tsum/len(y)"
      ],
      "execution_count": 0,
      "outputs": []
    },
    {
      "cell_type": "code",
      "metadata": {
        "id": "ZFLEaA-Vfd3U",
        "colab_type": "code",
        "outputId": "b6178f0e-b473-498b-8dd4-3f90498b62d8",
        "colab": {
          "base_uri": "https://localhost:8080/",
          "height": 34
        }
      },
      "source": [
        "train_allones_AED = avgED(trainY, train_yhat)\n",
        "test_allones_AED = avgED(testY, test_yhat)\n",
        "print('All Ones (Average Euclidean): train=%.3f, test=%.3f' % (train_allones_AED, test_allones_AED))"
      ],
      "execution_count": 29,
      "outputs": [
        {
          "output_type": "stream",
          "text": [
            "All Ones (Average Euclidean): train=2.021, test=2.015\n"
          ],
          "name": "stdout"
        }
      ]
    },
    {
      "cell_type": "code",
      "metadata": {
        "id": "fjmutENhC9ah",
        "colab_type": "code",
        "colab": {}
      },
      "source": [
        "# define cnn model\n",
        "def define_model(in_shape=(32, 32, 3), out_shape=9):\n",
        "\tfrom keras.models import Sequential\t\n",
        "\tfrom keras.layers import Conv2D, MaxPooling2D, Flatten, Dense\n",
        "\tmodel = Sequential()\n",
        "\tmodel.add(Conv2D(32, (3, 3), activation='relu', kernel_initializer='he_uniform', padding='same', input_shape=in_shape))\n",
        "\tmodel.add(Conv2D(32, (3, 3), activation='relu', kernel_initializer='he_uniform', padding='same'))\n",
        "\tmodel.add(MaxPooling2D((2, 2)))\n",
        "\tmodel.add(Conv2D(64, (3, 3), activation='relu', kernel_initializer='he_uniform', padding='same'))\n",
        "\tmodel.add(Conv2D(64, (3, 3), activation='relu', kernel_initializer='he_uniform', padding='same'))\n",
        "\tmodel.add(MaxPooling2D((2, 2)))\n",
        "\tmodel.add(Conv2D(128, (3, 3), activation='relu', kernel_initializer='he_uniform', padding='same'))\n",
        "\tmodel.add(Conv2D(128, (3, 3), activation='relu', kernel_initializer='he_uniform', padding='same'))\n",
        "\tmodel.add(MaxPooling2D((2, 2)))\n",
        "\tmodel.add(Conv2D(256, (3, 3), activation='relu', kernel_initializer='he_uniform', padding='same'))\n",
        "\tmodel.add(Conv2D(256, (3, 3), activation='relu', kernel_initializer='he_uniform', padding='same'))\n",
        "\tmodel.add(MaxPooling2D((2, 2)))\n",
        "\tmodel.add(Flatten())\n",
        "\tmodel.add(Dense(128, activation='relu', kernel_initializer='he_uniform'))\n",
        "\tmodel.add(Dense(out_shape, activation='sigmoid'))\n",
        "\t# compile model\n",
        "\topt = optimizers.SGD(lr=0.0001, momentum=0.9)\n",
        "\tmodel.compile(optimizer=opt, loss='binary_crossentropy', metrics=[fbeta])\n",
        "\treturn model"
      ],
      "execution_count": 0,
      "outputs": []
    },
    {
      "cell_type": "code",
      "metadata": {
        "id": "PaNdjIgtD28E",
        "colab_type": "code",
        "colab": {
          "base_uri": "https://localhost:8080/",
          "height": 34
        },
        "outputId": "6eb58240-6dbd-42a1-8767-f4a727602eab"
      },
      "source": [
        "# create data generator\n",
        "from keras.preprocessing.image import ImageDataGenerator\n",
        "datagen = ImageDataGenerator(rescale=1.0/255.0)"
      ],
      "execution_count": 31,
      "outputs": [
        {
          "output_type": "stream",
          "text": [
            "Using TensorFlow backend.\n"
          ],
          "name": "stderr"
        }
      ]
    },
    {
      "cell_type": "code",
      "metadata": {
        "id": "477lzrwMD53_",
        "colab_type": "code",
        "colab": {}
      },
      "source": [
        "# prepare iterators\n",
        "train_it = datagen.flow(trainX, trainY, batch_size=50)\n",
        "test_it = datagen.flow(testX, testY, batch_size=50)"
      ],
      "execution_count": 0,
      "outputs": []
    },
    {
      "cell_type": "code",
      "metadata": {
        "id": "ro3Ws8a-hoUm",
        "colab_type": "code",
        "colab": {}
      },
      "source": [
        "#define evaluation metric AVERAGE EUCLIDEAN DEISTANCE\n",
        "import keras.backend as K\n",
        "def AEUD(y_true, y_pred):\n",
        "    return K.sqrt(K.sum(K.square(y_pred - y_true), axis=-1))"
      ],
      "execution_count": 0,
      "outputs": []
    },
    {
      "cell_type": "code",
      "metadata": {
        "id": "IbISv4jcRulQ",
        "colab_type": "code",
        "colab": {}
      },
      "source": [
        "# define cnn model\n",
        "def define_EU_model(in_shape=(32, 32, 3), out_shape=9):\n",
        "\tfrom keras.models import Sequential\t\n",
        "\tfrom keras.layers import Conv2D, MaxPooling2D, Flatten, Dense\n",
        "\tmodel = Sequential()\n",
        "\tmodel.add(Conv2D(32, (3, 3), activation='relu', kernel_initializer='he_uniform', padding='same', input_shape=in_shape))\n",
        "\tmodel.add(Conv2D(32, (3, 3), activation='relu', kernel_initializer='he_uniform', padding='same'))\n",
        "\tmodel.add(MaxPooling2D((2, 2)))\n",
        "\tmodel.add(Conv2D(64, (3, 3), activation='relu', kernel_initializer='he_uniform', padding='same'))\n",
        "\tmodel.add(Conv2D(64, (3, 3), activation='relu', kernel_initializer='he_uniform', padding='same'))\n",
        "\tmodel.add(MaxPooling2D((2, 2)))\n",
        "\tmodel.add(Conv2D(128, (3, 3), activation='relu', kernel_initializer='he_uniform', padding='same'))\n",
        "\tmodel.add(Conv2D(128, (3, 3), activation='relu', kernel_initializer='he_uniform', padding='same'))\n",
        "\tmodel.add(MaxPooling2D((2, 2)))\n",
        "\tmodel.add(Conv2D(256, (3, 3), activation='relu', kernel_initializer='he_uniform', padding='same'))\n",
        "\tmodel.add(Conv2D(256, (3, 3), activation='relu', kernel_initializer='he_uniform', padding='same'))\n",
        "\tmodel.add(MaxPooling2D((2, 2)))\n",
        "\tmodel.add(Flatten())\n",
        "\tmodel.add(Dense(128, activation='relu', kernel_initializer='he_uniform'))\n",
        "\tmodel.add(Dense(out_shape, activation='sigmoid'))\n",
        "\t# compile model\n",
        "\topt = optimizers.SGD(lr=0.0001, momentum=0.9)\n",
        "\tmodel.compile(optimizer=opt, loss='binary_crossentropy', metrics=[AEUD])\n",
        "\treturn model"
      ],
      "execution_count": 0,
      "outputs": []
    },
    {
      "cell_type": "code",
      "metadata": {
        "id": "Z0rKocf_RpZ6",
        "colab_type": "code",
        "colab": {}
      },
      "source": [
        "model2 = define_EU_model()"
      ],
      "execution_count": 0,
      "outputs": []
    },
    {
      "cell_type": "code",
      "metadata": {
        "id": "oSCHoT0JECS_",
        "colab_type": "code",
        "colab": {
          "base_uri": "https://localhost:8080/",
          "height": 34
        },
        "outputId": "84eed652-4d1b-4549-dee8-4163bff38b44"
      },
      "source": [
        "loss, eud = model2.evaluate_generator(test_it, steps=len(test_it), verbose=0)\n",
        "print('> loss=%.3f, average euclidean distance=%.3f' % (loss, eud))"
      ],
      "execution_count": 37,
      "outputs": [
        {
          "output_type": "stream",
          "text": [
            "> loss=0.752, average euclidean distance=1.582\n"
          ],
          "name": "stdout"
        }
      ]
    },
    {
      "cell_type": "code",
      "metadata": {
        "id": "9LV5OAekdWQi",
        "colab_type": "code",
        "colab": {}
      },
      "source": [
        ""
      ],
      "execution_count": 0,
      "outputs": []
    }
  ]
}